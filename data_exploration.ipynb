{
 "cells": [
  {
   "cell_type": "markdown",
   "metadata": {},
   "source": [
    "# DATA Exploration"
   ]
  },
  {
   "cell_type": "markdown",
   "metadata": {},
   "source": [
    "# 1. Discovering Data"
   ]
  },
  {
   "cell_type": "code",
   "execution_count": 31,
   "metadata": {},
   "outputs": [
    {
     "name": "stdout",
     "output_type": "stream",
     "text": [
      "899164 lignes\n"
     ]
    },
    {
     "data": {
      "text/html": [
       "<div>\n",
       "<style scoped>\n",
       "    .dataframe tbody tr th:only-of-type {\n",
       "        vertical-align: middle;\n",
       "    }\n",
       "\n",
       "    .dataframe tbody tr th {\n",
       "        vertical-align: top;\n",
       "    }\n",
       "\n",
       "    .dataframe thead th {\n",
       "        text-align: right;\n",
       "    }\n",
       "</style>\n",
       "<table border=\"1\" class=\"dataframe\">\n",
       "  <thead>\n",
       "    <tr style=\"text-align: right;\">\n",
       "      <th></th>\n",
       "      <th>LoanNr_ChkDgt</th>\n",
       "      <th>Zip</th>\n",
       "      <th>NAICS</th>\n",
       "      <th>Term</th>\n",
       "      <th>NoEmp</th>\n",
       "      <th>NewExist</th>\n",
       "      <th>CreateJob</th>\n",
       "      <th>RetainedJob</th>\n",
       "      <th>FranchiseCode</th>\n",
       "      <th>UrbanRural</th>\n",
       "    </tr>\n",
       "  </thead>\n",
       "  <tbody>\n",
       "    <tr>\n",
       "      <th>count</th>\n",
       "      <td>8.991640e+05</td>\n",
       "      <td>899164.000000</td>\n",
       "      <td>899164.000000</td>\n",
       "      <td>899164.000000</td>\n",
       "      <td>899164.000000</td>\n",
       "      <td>899028.000000</td>\n",
       "      <td>899164.000000</td>\n",
       "      <td>899164.000000</td>\n",
       "      <td>899164.000000</td>\n",
       "      <td>899164.000000</td>\n",
       "    </tr>\n",
       "    <tr>\n",
       "      <th>mean</th>\n",
       "      <td>4.772612e+09</td>\n",
       "      <td>53804.391241</td>\n",
       "      <td>398660.950146</td>\n",
       "      <td>110.773078</td>\n",
       "      <td>11.411353</td>\n",
       "      <td>1.280404</td>\n",
       "      <td>8.430376</td>\n",
       "      <td>10.797257</td>\n",
       "      <td>2753.725933</td>\n",
       "      <td>0.757748</td>\n",
       "    </tr>\n",
       "    <tr>\n",
       "      <th>std</th>\n",
       "      <td>2.538175e+09</td>\n",
       "      <td>31184.159152</td>\n",
       "      <td>263318.312760</td>\n",
       "      <td>78.857305</td>\n",
       "      <td>74.108196</td>\n",
       "      <td>0.451750</td>\n",
       "      <td>236.688165</td>\n",
       "      <td>237.120600</td>\n",
       "      <td>12758.019136</td>\n",
       "      <td>0.646436</td>\n",
       "    </tr>\n",
       "    <tr>\n",
       "      <th>min</th>\n",
       "      <td>1.000014e+09</td>\n",
       "      <td>0.000000</td>\n",
       "      <td>0.000000</td>\n",
       "      <td>0.000000</td>\n",
       "      <td>0.000000</td>\n",
       "      <td>0.000000</td>\n",
       "      <td>0.000000</td>\n",
       "      <td>0.000000</td>\n",
       "      <td>0.000000</td>\n",
       "      <td>0.000000</td>\n",
       "    </tr>\n",
       "    <tr>\n",
       "      <th>25%</th>\n",
       "      <td>2.589758e+09</td>\n",
       "      <td>27587.000000</td>\n",
       "      <td>235210.000000</td>\n",
       "      <td>60.000000</td>\n",
       "      <td>2.000000</td>\n",
       "      <td>1.000000</td>\n",
       "      <td>0.000000</td>\n",
       "      <td>0.000000</td>\n",
       "      <td>1.000000</td>\n",
       "      <td>0.000000</td>\n",
       "    </tr>\n",
       "    <tr>\n",
       "      <th>50%</th>\n",
       "      <td>4.361439e+09</td>\n",
       "      <td>55410.000000</td>\n",
       "      <td>445310.000000</td>\n",
       "      <td>84.000000</td>\n",
       "      <td>4.000000</td>\n",
       "      <td>1.000000</td>\n",
       "      <td>0.000000</td>\n",
       "      <td>1.000000</td>\n",
       "      <td>1.000000</td>\n",
       "      <td>1.000000</td>\n",
       "    </tr>\n",
       "    <tr>\n",
       "      <th>75%</th>\n",
       "      <td>6.904627e+09</td>\n",
       "      <td>83704.000000</td>\n",
       "      <td>561730.000000</td>\n",
       "      <td>120.000000</td>\n",
       "      <td>10.000000</td>\n",
       "      <td>2.000000</td>\n",
       "      <td>1.000000</td>\n",
       "      <td>4.000000</td>\n",
       "      <td>1.000000</td>\n",
       "      <td>1.000000</td>\n",
       "    </tr>\n",
       "    <tr>\n",
       "      <th>max</th>\n",
       "      <td>9.996003e+09</td>\n",
       "      <td>99999.000000</td>\n",
       "      <td>928120.000000</td>\n",
       "      <td>569.000000</td>\n",
       "      <td>9999.000000</td>\n",
       "      <td>2.000000</td>\n",
       "      <td>8800.000000</td>\n",
       "      <td>9500.000000</td>\n",
       "      <td>99999.000000</td>\n",
       "      <td>2.000000</td>\n",
       "    </tr>\n",
       "  </tbody>\n",
       "</table>\n",
       "</div>"
      ],
      "text/plain": [
       "       LoanNr_ChkDgt            Zip          NAICS           Term  \\\n",
       "count   8.991640e+05  899164.000000  899164.000000  899164.000000   \n",
       "mean    4.772612e+09   53804.391241  398660.950146     110.773078   \n",
       "std     2.538175e+09   31184.159152  263318.312760      78.857305   \n",
       "min     1.000014e+09       0.000000       0.000000       0.000000   \n",
       "25%     2.589758e+09   27587.000000  235210.000000      60.000000   \n",
       "50%     4.361439e+09   55410.000000  445310.000000      84.000000   \n",
       "75%     6.904627e+09   83704.000000  561730.000000     120.000000   \n",
       "max     9.996003e+09   99999.000000  928120.000000     569.000000   \n",
       "\n",
       "               NoEmp       NewExist      CreateJob    RetainedJob  \\\n",
       "count  899164.000000  899028.000000  899164.000000  899164.000000   \n",
       "mean       11.411353       1.280404       8.430376      10.797257   \n",
       "std        74.108196       0.451750     236.688165     237.120600   \n",
       "min         0.000000       0.000000       0.000000       0.000000   \n",
       "25%         2.000000       1.000000       0.000000       0.000000   \n",
       "50%         4.000000       1.000000       0.000000       1.000000   \n",
       "75%        10.000000       2.000000       1.000000       4.000000   \n",
       "max      9999.000000       2.000000    8800.000000    9500.000000   \n",
       "\n",
       "       FranchiseCode     UrbanRural  \n",
       "count  899164.000000  899164.000000  \n",
       "mean     2753.725933       0.757748  \n",
       "std     12758.019136       0.646436  \n",
       "min         0.000000       0.000000  \n",
       "25%         1.000000       0.000000  \n",
       "50%         1.000000       1.000000  \n",
       "75%         1.000000       1.000000  \n",
       "max     99999.000000       2.000000  "
      ]
     },
     "execution_count": 31,
     "metadata": {},
     "output_type": "execute_result"
    }
   ],
   "source": [
    "#import sklearn as skl\n",
    "import pandas as pd\n",
    "\n",
    "df = pd.read_csv(\"SBAnational.csv\", low_memory=False)\n",
    "print(f\"{df.shape[0]} lignes\")\n",
    "df.describe()"
   ]
  },
  {
   "cell_type": "code",
   "execution_count": 32,
   "metadata": {},
   "outputs": [
    {
     "data": {
      "text/html": [
       "<div>\n",
       "<style scoped>\n",
       "    .dataframe tbody tr th:only-of-type {\n",
       "        vertical-align: middle;\n",
       "    }\n",
       "\n",
       "    .dataframe tbody tr th {\n",
       "        vertical-align: top;\n",
       "    }\n",
       "\n",
       "    .dataframe thead th {\n",
       "        text-align: right;\n",
       "    }\n",
       "</style>\n",
       "<table border=\"1\" class=\"dataframe\">\n",
       "  <thead>\n",
       "    <tr style=\"text-align: right;\">\n",
       "      <th></th>\n",
       "      <th>LoanNr_ChkDgt</th>\n",
       "      <th>Name</th>\n",
       "      <th>City</th>\n",
       "      <th>State</th>\n",
       "      <th>Zip</th>\n",
       "      <th>Bank</th>\n",
       "      <th>BankState</th>\n",
       "      <th>NAICS</th>\n",
       "      <th>ApprovalDate</th>\n",
       "      <th>ApprovalFY</th>\n",
       "      <th>...</th>\n",
       "      <th>RevLineCr</th>\n",
       "      <th>LowDoc</th>\n",
       "      <th>ChgOffDate</th>\n",
       "      <th>DisbursementDate</th>\n",
       "      <th>DisbursementGross</th>\n",
       "      <th>BalanceGross</th>\n",
       "      <th>MIS_Status</th>\n",
       "      <th>ChgOffPrinGr</th>\n",
       "      <th>GrAppv</th>\n",
       "      <th>SBA_Appv</th>\n",
       "    </tr>\n",
       "  </thead>\n",
       "  <tbody>\n",
       "    <tr>\n",
       "      <th>0</th>\n",
       "      <td>1000014003</td>\n",
       "      <td>ABC HOBBYCRAFT</td>\n",
       "      <td>EVANSVILLE</td>\n",
       "      <td>IN</td>\n",
       "      <td>47711</td>\n",
       "      <td>FIFTH THIRD BANK</td>\n",
       "      <td>OH</td>\n",
       "      <td>451120</td>\n",
       "      <td>28-Feb-97</td>\n",
       "      <td>1997</td>\n",
       "      <td>...</td>\n",
       "      <td>N</td>\n",
       "      <td>Y</td>\n",
       "      <td>NaN</td>\n",
       "      <td>28-Feb-99</td>\n",
       "      <td>$60,000.00</td>\n",
       "      <td>$0.00</td>\n",
       "      <td>P I F</td>\n",
       "      <td>$0.00</td>\n",
       "      <td>$60,000.00</td>\n",
       "      <td>$48,000.00</td>\n",
       "    </tr>\n",
       "    <tr>\n",
       "      <th>1</th>\n",
       "      <td>1000024006</td>\n",
       "      <td>LANDMARK BAR &amp; GRILLE (THE)</td>\n",
       "      <td>NEW PARIS</td>\n",
       "      <td>IN</td>\n",
       "      <td>46526</td>\n",
       "      <td>1ST SOURCE BANK</td>\n",
       "      <td>IN</td>\n",
       "      <td>722410</td>\n",
       "      <td>28-Feb-97</td>\n",
       "      <td>1997</td>\n",
       "      <td>...</td>\n",
       "      <td>N</td>\n",
       "      <td>Y</td>\n",
       "      <td>NaN</td>\n",
       "      <td>31-May-97</td>\n",
       "      <td>$40,000.00</td>\n",
       "      <td>$0.00</td>\n",
       "      <td>P I F</td>\n",
       "      <td>$0.00</td>\n",
       "      <td>$40,000.00</td>\n",
       "      <td>$32,000.00</td>\n",
       "    </tr>\n",
       "  </tbody>\n",
       "</table>\n",
       "<p>2 rows × 27 columns</p>\n",
       "</div>"
      ],
      "text/plain": [
       "   LoanNr_ChkDgt                         Name        City State    Zip  \\\n",
       "0     1000014003               ABC HOBBYCRAFT  EVANSVILLE    IN  47711   \n",
       "1     1000024006  LANDMARK BAR & GRILLE (THE)   NEW PARIS    IN  46526   \n",
       "\n",
       "               Bank BankState   NAICS ApprovalDate ApprovalFY  ...  RevLineCr  \\\n",
       "0  FIFTH THIRD BANK        OH  451120    28-Feb-97       1997  ...          N   \n",
       "1   1ST SOURCE BANK        IN  722410    28-Feb-97       1997  ...          N   \n",
       "\n",
       "   LowDoc  ChgOffDate  DisbursementDate  DisbursementGross  BalanceGross  \\\n",
       "0       Y         NaN         28-Feb-99        $60,000.00         $0.00    \n",
       "1       Y         NaN         31-May-97        $40,000.00         $0.00    \n",
       "\n",
       "   MIS_Status ChgOffPrinGr       GrAppv     SBA_Appv  \n",
       "0       P I F       $0.00   $60,000.00   $48,000.00   \n",
       "1       P I F       $0.00   $40,000.00   $32,000.00   \n",
       "\n",
       "[2 rows x 27 columns]"
      ]
     },
     "execution_count": 32,
     "metadata": {},
     "output_type": "execute_result"
    }
   ],
   "source": [
    "df.head(2)"
   ]
  },
  {
   "cell_type": "markdown",
   "metadata": {},
   "source": [
    "# 1. 1. Column selection"
   ]
  },
  {
   "cell_type": "code",
   "execution_count": 33,
   "metadata": {},
   "outputs": [
    {
     "name": "stdout",
     "output_type": "stream",
     "text": [
      "LoanNr_ChkDgt : int64)\n",
      "Name : object)\n",
      "City : object)\n",
      "State : object)\n",
      "Zip : int64)\n",
      "Bank : object)\n",
      "BankState : object)\n",
      "NAICS : int64)\n",
      "ApprovalDate : object)\n",
      "ApprovalFY : object)\n",
      "Term : int64)\n",
      "NoEmp : int64)\n",
      "NewExist : float64)\n",
      "CreateJob : int64)\n",
      "RetainedJob : int64)\n",
      "FranchiseCode : int64)\n",
      "UrbanRural : int64)\n",
      "RevLineCr : object)\n",
      "LowDoc : object)\n",
      "ChgOffDate : object)\n",
      "DisbursementDate : object)\n",
      "DisbursementGross : object)\n",
      "BalanceGross : object)\n",
      "MIS_Status : object)\n",
      "ChgOffPrinGr : object)\n",
      "GrAppv : object)\n",
      "SBA_Appv : object)\n"
     ]
    }
   ],
   "source": [
    "for column_name in df.columns.values :\n",
    "    print(f\"{column_name} : {df[column_name].dtype})\")\n",
    "     "
   ]
  },
  {
   "cell_type": "markdown",
   "metadata": {},
   "source": [
    "Explanation of columns :\n",
    "\n",
    "LoanNr_ChkDgt : primary key,  excluded\n",
    "\n",
    "Name : excluded\n",
    "\n",
    "City : excluded\n",
    "\n",
    "- ${X_1}$ State : it seems the state has an influence on MIS_Status : included\n",
    "\n",
    "Zip (numeric) : exluded\n",
    "\n",
    "Bank : excluded\n",
    "\n",
    "BankState : excluded\n",
    "\n",
    "- ${X_2}$ NAICS (numeric) : included (2 first chars )\n",
    "\n",
    "ApprovalDate (date) : excluded\n",
    "\n",
    "- ${X_3}$  ApprovalFY not sure of inclusion : allows you to keep information on the date - if it is usefull\n",
    "- ${X_4}$ Term (numeric): included : month number, to be linked to the GrAppv\n",
    "- ${X_5}$ NoEmp, included : number of employees\n",
    "- ${X_6}$ NewExist, included \n",
    "- ${X_7}$ CreateJob, included \n",
    "- ${X_{8}}$ RetainedJob, included \n",
    "- ${X_{9}}$ FranchiseCode\n",
    "- ${X_{10}}$ UrbanRural, included \n",
    "- ${X_{11}}$ RevLineCr : included\n",
    "- ${X_{12}}$ LowDoc : included - not sure it helps : if amount < 150 000)\n",
    "\n",
    "ChgOffDate : exluded  <= explicit end on simulation \n",
    "\n",
    "DisbursementDate : excluded\n",
    "\n",
    "DisbursementGross : excluded\n",
    "\n",
    "BalanceGross : excluded - 14 valeurs seulement différentes de zéro  ?\n",
    "\n",
    "- ${Target} = {Y}$  = MIS_Status : INCLUDED !!!\n",
    "\n",
    "ChgOffPrinGr : excluded\n",
    "\n",
    "- ${X_{13}}$  GrAppv : included instead of DisbursementGross (often the same number)\n",
    "\n",
    "- ${X_{14}}$ SBA_Appv : included"
   ]
  },
  {
   "cell_type": "code",
   "execution_count": 34,
   "metadata": {},
   "outputs": [
    {
     "name": "stdout",
     "output_type": "stream",
     "text": [
      "['P I F' 'CHGOFF' nan]\n",
      "MIS_Status\n",
      "P I F     739609\n",
      "CHGOFF    157558\n",
      "Name: count, dtype: int64\n",
      "Total lines = 899164\n",
      "lines to remove: 1997\n"
     ]
    }
   ],
   "source": [
    "values = df[\"MIS_Status\"].unique()\n",
    "print(values)\n",
    "value_counts = df[\"MIS_Status\"].value_counts()\n",
    "print(value_counts)\n",
    "print(f\"Total lines = {df.shape[0]}\")\n",
    "\n",
    "print (f\"lines to remove: {df.shape[0] - value_counts[\"P I F\"] - value_counts[\"CHGOFF\"]}\") "
   ]
  },
  {
   "cell_type": "markdown",
   "metadata": {},
   "source": [
    "# 1. 2. doing anything\n",
    "(Exploiting Target Leaking)"
   ]
  },
  {
   "cell_type": "code",
   "execution_count": 35,
   "metadata": {},
   "outputs": [
    {
     "name": "stdout",
     "output_type": "stream",
     "text": [
      "1736 lines probably in 'P I F' Status\n"
     ]
    },
    {
     "data": {
      "text/html": [
       "<div>\n",
       "<style scoped>\n",
       "    .dataframe tbody tr th:only-of-type {\n",
       "        vertical-align: middle;\n",
       "    }\n",
       "\n",
       "    .dataframe tbody tr th {\n",
       "        vertical-align: top;\n",
       "    }\n",
       "\n",
       "    .dataframe thead th {\n",
       "        text-align: right;\n",
       "    }\n",
       "</style>\n",
       "<table border=\"1\" class=\"dataframe\">\n",
       "  <thead>\n",
       "    <tr style=\"text-align: right;\">\n",
       "      <th></th>\n",
       "      <th>LoanNr_ChkDgt</th>\n",
       "      <th>Name</th>\n",
       "      <th>City</th>\n",
       "      <th>State</th>\n",
       "      <th>Zip</th>\n",
       "      <th>Bank</th>\n",
       "      <th>BankState</th>\n",
       "      <th>NAICS</th>\n",
       "      <th>ApprovalDate</th>\n",
       "      <th>ApprovalFY</th>\n",
       "      <th>...</th>\n",
       "      <th>RevLineCr</th>\n",
       "      <th>LowDoc</th>\n",
       "      <th>ChgOffDate</th>\n",
       "      <th>DisbursementDate</th>\n",
       "      <th>DisbursementGross</th>\n",
       "      <th>BalanceGross</th>\n",
       "      <th>MIS_Status</th>\n",
       "      <th>ChgOffPrinGr</th>\n",
       "      <th>GrAppv</th>\n",
       "      <th>SBA_Appv</th>\n",
       "    </tr>\n",
       "  </thead>\n",
       "  <tbody>\n",
       "    <tr>\n",
       "      <th>343</th>\n",
       "      <td>1002585010</td>\n",
       "      <td>Chinaberry, LTD</td>\n",
       "      <td>Saratoga Springs</td>\n",
       "      <td>NY</td>\n",
       "      <td>12866</td>\n",
       "      <td>KEYBANK NATIONAL ASSOCIATION</td>\n",
       "      <td>OH</td>\n",
       "      <td>0</td>\n",
       "      <td>18-May-98</td>\n",
       "      <td>1998</td>\n",
       "      <td>...</td>\n",
       "      <td>0</td>\n",
       "      <td>N</td>\n",
       "      <td>NaN</td>\n",
       "      <td>30-Jun-98</td>\n",
       "      <td>$474.00</td>\n",
       "      <td>$0.00</td>\n",
       "      <td>NaN</td>\n",
       "      <td>$0.00</td>\n",
       "      <td>$30,000.00</td>\n",
       "      <td>$15,000.00</td>\n",
       "    </tr>\n",
       "    <tr>\n",
       "      <th>738</th>\n",
       "      <td>1005264007</td>\n",
       "      <td>AMERICAN CERTIFIED HOME INSPEC</td>\n",
       "      <td>BOISE</td>\n",
       "      <td>ID</td>\n",
       "      <td>83703</td>\n",
       "      <td>WELLS FARGO BANK NATL ASSOC</td>\n",
       "      <td>SD</td>\n",
       "      <td>0</td>\n",
       "      <td>3-Mar-97</td>\n",
       "      <td>1997</td>\n",
       "      <td>...</td>\n",
       "      <td>T</td>\n",
       "      <td>N</td>\n",
       "      <td>NaN</td>\n",
       "      <td>30-Apr-00</td>\n",
       "      <td>$2,585.00</td>\n",
       "      <td>$0.00</td>\n",
       "      <td>NaN</td>\n",
       "      <td>$0.00</td>\n",
       "      <td>$10,000.00</td>\n",
       "      <td>$5,000.00</td>\n",
       "    </tr>\n",
       "    <tr>\n",
       "      <th>833</th>\n",
       "      <td>1005845000</td>\n",
       "      <td>SPROUT KIDS INC.</td>\n",
       "      <td>HUNTINGTON</td>\n",
       "      <td>NY</td>\n",
       "      <td>11743</td>\n",
       "      <td>JPMORGAN CHASE BANK NATL ASSOC</td>\n",
       "      <td>IL</td>\n",
       "      <td>424330</td>\n",
       "      <td>3-Mar-03</td>\n",
       "      <td>2003</td>\n",
       "      <td>...</td>\n",
       "      <td>N</td>\n",
       "      <td>N</td>\n",
       "      <td>NaN</td>\n",
       "      <td>31-Mar-03</td>\n",
       "      <td>$1,276.00</td>\n",
       "      <td>$0.00</td>\n",
       "      <td>NaN</td>\n",
       "      <td>$0.00</td>\n",
       "      <td>$25,000.00</td>\n",
       "      <td>$12,500.00</td>\n",
       "    </tr>\n",
       "    <tr>\n",
       "      <th>897</th>\n",
       "      <td>1006205009</td>\n",
       "      <td>CHINWE NDUKA MD FAMILY PRACTIC</td>\n",
       "      <td>EL PASO</td>\n",
       "      <td>TX</td>\n",
       "      <td>79905</td>\n",
       "      <td>JPMORGAN CHASE BANK NATL ASSOC</td>\n",
       "      <td>IL</td>\n",
       "      <td>621111</td>\n",
       "      <td>9-Apr-03</td>\n",
       "      <td>2003</td>\n",
       "      <td>...</td>\n",
       "      <td>N</td>\n",
       "      <td>N</td>\n",
       "      <td>NaN</td>\n",
       "      <td>30-Apr-03</td>\n",
       "      <td>$803.00</td>\n",
       "      <td>$0.00</td>\n",
       "      <td>NaN</td>\n",
       "      <td>$0.00</td>\n",
       "      <td>$40,000.00</td>\n",
       "      <td>$20,000.00</td>\n",
       "    </tr>\n",
       "  </tbody>\n",
       "</table>\n",
       "<p>4 rows × 27 columns</p>\n",
       "</div>"
      ],
      "text/plain": [
       "     LoanNr_ChkDgt                            Name              City State  \\\n",
       "343     1002585010                 Chinaberry, LTD  Saratoga Springs    NY   \n",
       "738     1005264007  AMERICAN CERTIFIED HOME INSPEC             BOISE    ID   \n",
       "833     1005845000                SPROUT KIDS INC.        HUNTINGTON    NY   \n",
       "897     1006205009  CHINWE NDUKA MD FAMILY PRACTIC           EL PASO    TX   \n",
       "\n",
       "       Zip                            Bank BankState   NAICS ApprovalDate  \\\n",
       "343  12866    KEYBANK NATIONAL ASSOCIATION        OH       0    18-May-98   \n",
       "738  83703     WELLS FARGO BANK NATL ASSOC        SD       0     3-Mar-97   \n",
       "833  11743  JPMORGAN CHASE BANK NATL ASSOC        IL  424330     3-Mar-03   \n",
       "897  79905  JPMORGAN CHASE BANK NATL ASSOC        IL  621111     9-Apr-03   \n",
       "\n",
       "    ApprovalFY  ...  RevLineCr  LowDoc  ChgOffDate  DisbursementDate  \\\n",
       "343       1998  ...          0       N         NaN         30-Jun-98   \n",
       "738       1997  ...          T       N         NaN         30-Apr-00   \n",
       "833       2003  ...          N       N         NaN         31-Mar-03   \n",
       "897       2003  ...          N       N         NaN         30-Apr-03   \n",
       "\n",
       "     DisbursementGross  BalanceGross  MIS_Status ChgOffPrinGr       GrAppv  \\\n",
       "343           $474.00         $0.00          NaN       $0.00   $30,000.00    \n",
       "738         $2,585.00         $0.00          NaN       $0.00   $10,000.00    \n",
       "833         $1,276.00         $0.00          NaN       $0.00   $25,000.00    \n",
       "897           $803.00         $0.00          NaN       $0.00   $40,000.00    \n",
       "\n",
       "        SBA_Appv  \n",
       "343  $15,000.00   \n",
       "738   $5,000.00   \n",
       "833  $12,500.00   \n",
       "897  $20,000.00   \n",
       "\n",
       "[4 rows x 27 columns]"
      ]
     },
     "execution_count": 35,
     "metadata": {},
     "output_type": "execute_result"
    }
   ],
   "source": [
    "df_Missing_MIS_Status = df[(df[\"MIS_Status\"].isna()) & (df[\"ChgOffDate\"].isna())]\n",
    "print(f\"{df_Missing_MIS_Status.shape[0]} lines probably in 'P I F' Status\")\n",
    "df_Missing_MIS_Status.head(4)\n"
   ]
  },
  {
   "cell_type": "code",
   "execution_count": 36,
   "metadata": {},
   "outputs": [
    {
     "name": "stdout",
     "output_type": "stream",
     "text": [
      "899164\n",
      "897167\n"
     ]
    }
   ],
   "source": [
    "print(df.shape[0])\n",
    "df_exp = df[(df[\"MIS_Status\"] ==\"P I F\") | (df[\"MIS_Status\"] ==\"CHGOFF\")]\n",
    "print(df_exp.shape[0])\n"
   ]
  },
  {
   "cell_type": "markdown",
   "metadata": {},
   "source": [
    "# 2. Column conditionning"
   ]
  },
  {
   "cell_type": "code",
   "execution_count": 37,
   "metadata": {},
   "outputs": [
    {
     "data": {
      "text/plain": [
       "LowDoc\n",
       "N    782822\n",
       "Y    110335\n",
       "0      1491\n",
       "C       758\n",
       "S       603\n",
       "A       497\n",
       "R        75\n",
       "1         1\n",
       "Name: count, dtype: int64"
      ]
     },
     "execution_count": 37,
     "metadata": {},
     "output_type": "execute_result"
    }
   ],
   "source": [
    "df[\"LowDoc\"].value_counts()"
   ]
  },
  {
   "cell_type": "code",
   "execution_count": 38,
   "metadata": {},
   "outputs": [
    {
     "data": {
      "text/plain": [
       "count    899164.000000\n",
       "mean        110.773078\n",
       "std          78.857305\n",
       "min           0.000000\n",
       "25%          60.000000\n",
       "50%          84.000000\n",
       "75%         120.000000\n",
       "max         569.000000\n",
       "Name: Term, dtype: float64"
      ]
     },
     "execution_count": 38,
     "metadata": {},
     "output_type": "execute_result"
    }
   ],
   "source": [
    "# df[\"Term\"].value_counts()\n",
    "df[\"Term\"].describe()"
   ]
  },
  {
   "cell_type": "code",
   "execution_count": 39,
   "metadata": {},
   "outputs": [
    {
     "data": {
      "text/plain": [
       "47.416666666666664"
      ]
     },
     "execution_count": 39,
     "metadata": {},
     "output_type": "execute_result"
    }
   ],
   "source": [
    "569 / 12"
   ]
  },
  {
   "cell_type": "code",
   "execution_count": 40,
   "metadata": {},
   "outputs": [
    {
     "data": {
      "text/plain": [
       "count    899164.000000\n",
       "mean       2753.725933\n",
       "std       12758.019136\n",
       "min           0.000000\n",
       "25%           1.000000\n",
       "50%           1.000000\n",
       "75%           1.000000\n",
       "max       99999.000000\n",
       "Name: FranchiseCode, dtype: float64"
      ]
     },
     "execution_count": 40,
     "metadata": {},
     "output_type": "execute_result"
    }
   ],
   "source": [
    "df[\"FranchiseCode\"].describe()"
   ]
  },
  {
   "cell_type": "code",
   "execution_count": 41,
   "metadata": {},
   "outputs": [
    {
     "data": {
      "text/plain": [
       "BalanceGross\n",
       "$0.00           899150\n",
       "$12,750.00           1\n",
       "$827,875.00          1\n",
       "$25,000.00           1\n",
       "$37,100.00           1\n",
       "$43,127.00           1\n",
       "$84,617.00           1\n",
       "$1,760.00            1\n",
       "$115,820.00          1\n",
       "$996,262.00          1\n",
       "$395,476.00          1\n",
       "$41,509.00           1\n",
       "$600.00              1\n",
       "$9,111.00            1\n",
       "$96,908.00           1\n",
       "Name: count, dtype: int64"
      ]
     },
     "execution_count": 41,
     "metadata": {},
     "output_type": "execute_result"
    }
   ],
   "source": [
    "df[\"BalanceGross\"].value_counts()"
   ]
  },
  {
   "cell_type": "code",
   "execution_count": 42,
   "metadata": {},
   "outputs": [],
   "source": [
    "#df[\"ApprovalDate\"].head()\n",
    "years = df[\"ApprovalDate\"].value_counts().keys()\n",
    "years = list(map (lambda x : str(x).split('-')[-1], years))\n",
    "years = set(years)\n",
    "\n",
    "#years min = 1961, max = 2014\n",
    "# on peut prendre 1960 -> 2015 par exemple\n"
   ]
  },
  {
   "cell_type": "code",
   "execution_count": null,
   "metadata": {},
   "outputs": [],
   "source": []
  },
  {
   "cell_type": "code",
   "execution_count": 43,
   "metadata": {},
   "outputs": [
    {
     "data": {
      "text/plain": [
       "0.17561724851671986"
      ]
     },
     "execution_count": 43,
     "metadata": {},
     "output_type": "execute_result"
    }
   ],
   "source": [
    "ok_values = 739609\n",
    "ko_values = 157558\n",
    "\n",
    "ko_values/(ok_values+ko_values)"
   ]
  },
  {
   "cell_type": "code",
   "execution_count": 44,
   "metadata": {},
   "outputs": [],
   "source": [
    "import datetime as dt\n",
    "from typing import cast\n",
    "\n",
    "def specific_convert_date(datestring : str) -> dt.date:\n",
    "    date_val = dt.date( 1989, 11, 9)\n",
    "    try :\n",
    "        date_val = dt.datetime.strptime(datestring, '%d-%b-%y').date()\n",
    "    except Exception as ex :\n",
    "        print(ex)\n",
    "\n",
    "    return date_val"
   ]
  },
  {
   "cell_type": "code",
   "execution_count": 1,
   "metadata": {},
   "outputs": [
    {
     "ename": "NameError",
     "evalue": "name 'df' is not defined",
     "output_type": "error",
     "traceback": [
      "\u001b[0;31m---------------------------------------------------------------------------\u001b[0m",
      "\u001b[0;31mNameError\u001b[0m                                 Traceback (most recent call last)",
      "Cell \u001b[0;32mIn[1], line 1\u001b[0m\n\u001b[0;32m----> 1\u001b[0m \u001b[43mdf\u001b[49m[\u001b[38;5;124m\"\u001b[39m\u001b[38;5;124mApprovalFY\u001b[39m\u001b[38;5;124m\"\u001b[39m]\u001b[38;5;241m.\u001b[39mvalue_counts()\n\u001b[1;32m      2\u001b[0m \u001b[38;5;66;03m# df0[\"ApprovalYear2\"] = df0[\"ApprovalYear\"].apply(lambda x : specific_convert_date(str(x)))\u001b[39;00m\n\u001b[1;32m      3\u001b[0m \u001b[38;5;66;03m# df0[\"ApprovalYear2\"].describe()\u001b[39;00m\n",
      "\u001b[0;31mNameError\u001b[0m: name 'df' is not defined"
     ]
    }
   ],
   "source": [
    "df[\"ApprovalFY\"].value_counts()\n",
    "# df0[\"ApprovalYear2\"] = df0[\"ApprovalYear\"].apply(lambda x : specific_convert_date(str(x)))\n",
    "# df0[\"ApprovalYear2\"].describe()"
   ]
  },
  {
   "cell_type": "code",
   "execution_count": 46,
   "metadata": {},
   "outputs": [
    {
     "data": {
      "text/plain": [
       "count        162699\n",
       "unique         6448\n",
       "top       13-Mar-10\n",
       "freq            734\n",
       "Name: ChgOffDate, dtype: object"
      ]
     },
     "execution_count": 46,
     "metadata": {},
     "output_type": "execute_result"
    }
   ],
   "source": [
    "df[\"ChgOffDate\"].describe()"
   ]
  },
  {
   "cell_type": "code",
   "execution_count": 47,
   "metadata": {},
   "outputs": [
    {
     "name": "stderr",
     "output_type": "stream",
     "text": [
      "/tmp/ipykernel_7841/34720787.py:4: SettingWithCopyWarning: \n",
      "A value is trying to be set on a copy of a slice from a DataFrame.\n",
      "Try using .loc[row_indexer,col_indexer] = value instead\n",
      "\n",
      "See the caveats in the documentation: https://pandas.pydata.org/pandas-docs/stable/user_guide/indexing.html#returning-a-view-versus-a-copy\n",
      "  df1[\"ChgOffDate2\"] = df1[\"ChgOffDate\"].apply( lambda x : dt.datetime.strptime(x, '%d-%b-%y').date())\n",
      "/tmp/ipykernel_7841/34720787.py:5: SettingWithCopyWarning: \n",
      "A value is trying to be set on a copy of a slice from a DataFrame.\n",
      "Try using .loc[row_indexer,col_indexer] = value instead\n",
      "\n",
      "See the caveats in the documentation: https://pandas.pydata.org/pandas-docs/stable/user_guide/indexing.html#returning-a-view-versus-a-copy\n",
      "  df1[\"ChgOffYear\"] = df1[\"ChgOffDate2\"].apply(lambda x: cast(dt.date, x).year)\n",
      "/tmp/ipykernel_7841/34720787.py:10: SettingWithCopyWarning: \n",
      "A value is trying to be set on a copy of a slice from a DataFrame.\n",
      "Try using .loc[row_indexer,col_indexer] = value instead\n",
      "\n",
      "See the caveats in the documentation: https://pandas.pydata.org/pandas-docs/stable/user_guide/indexing.html#returning-a-view-versus-a-copy\n",
      "  df2[\"DisbursementDate2\"] = df2[\"DisbursementDate\"].apply( lambda x : dt.datetime.strptime(x, '%d-%b-%y').date())\n",
      "/tmp/ipykernel_7841/34720787.py:11: SettingWithCopyWarning: \n",
      "A value is trying to be set on a copy of a slice from a DataFrame.\n",
      "Try using .loc[row_indexer,col_indexer] = value instead\n",
      "\n",
      "See the caveats in the documentation: https://pandas.pydata.org/pandas-docs/stable/user_guide/indexing.html#returning-a-view-versus-a-copy\n",
      "  df2[\"DisbursementYear\"] = df2[\"DisbursementDate2\"].apply(lambda x: cast(dt.date, x).year)\n"
     ]
    }
   ],
   "source": [
    "df1 = df[df[\"ChgOffDate\"].isna()==False]\n",
    "# df1.count() = 162699 max\n",
    "\n",
    "df1[\"ChgOffDate2\"] = df1[\"ChgOffDate\"].apply( lambda x : dt.datetime.strptime(x, '%d-%b-%y').date())\n",
    "df1[\"ChgOffYear\"] = df1[\"ChgOffDate2\"].apply(lambda x: cast(dt.date, x).year) \n",
    "\n",
    "df2 = df1[df1[\"DisbursementDate\"].isna()==False]\n",
    "# df2.count() = 162289 max\n",
    "\n",
    "df2[\"DisbursementDate2\"] = df2[\"DisbursementDate\"].apply( lambda x : dt.datetime.strptime(x, '%d-%b-%y').date())\n",
    "df2[\"DisbursementYear\"] = df2[\"DisbursementDate2\"].apply(lambda x: cast(dt.date, x).year) \n",
    "\n"
   ]
  },
  {
   "cell_type": "code",
   "execution_count": 48,
   "metadata": {},
   "outputs": [
    {
     "data": {
      "text/plain": [
       "count    162289.000000\n",
       "mean       2008.047335\n",
       "std           4.936243\n",
       "min        1988.000000\n",
       "25%        2007.000000\n",
       "50%        2009.000000\n",
       "75%        2011.000000\n",
       "max        2026.000000\n",
       "Name: ChgOffYear, dtype: float64"
      ]
     },
     "execution_count": 48,
     "metadata": {},
     "output_type": "execute_result"
    }
   ],
   "source": [
    "df2[\"ChgOffYear\"].describe()"
   ]
  },
  {
   "cell_type": "code",
   "execution_count": 49,
   "metadata": {},
   "outputs": [
    {
     "data": {
      "text/plain": [
       "count    162289.000000\n",
       "mean       2003.665030\n",
       "std           5.610377\n",
       "min        1969.000000\n",
       "25%        2003.000000\n",
       "50%        2005.000000\n",
       "75%        2007.000000\n",
       "max        2068.000000\n",
       "Name: DisbursementYear, dtype: float64"
      ]
     },
     "execution_count": 49,
     "metadata": {},
     "output_type": "execute_result"
    }
   ],
   "source": [
    "df2[\"DisbursementYear\"].describe()"
   ]
  },
  {
   "cell_type": "code",
   "execution_count": 50,
   "metadata": {},
   "outputs": [
    {
     "data": {
      "text/html": [
       "<div>\n",
       "<style scoped>\n",
       "    .dataframe tbody tr th:only-of-type {\n",
       "        vertical-align: middle;\n",
       "    }\n",
       "\n",
       "    .dataframe tbody tr th {\n",
       "        vertical-align: top;\n",
       "    }\n",
       "\n",
       "    .dataframe thead th {\n",
       "        text-align: right;\n",
       "    }\n",
       "</style>\n",
       "<table border=\"1\" class=\"dataframe\">\n",
       "  <thead>\n",
       "    <tr style=\"text-align: right;\">\n",
       "      <th></th>\n",
       "      <th>State</th>\n",
       "      <th>NAICS</th>\n",
       "      <th>ApprovalFY</th>\n",
       "      <th>Term</th>\n",
       "      <th>NoEmp</th>\n",
       "      <th>NewExist</th>\n",
       "      <th>CreateJob</th>\n",
       "      <th>RetainedJob</th>\n",
       "      <th>FranchiseCode</th>\n",
       "      <th>UrbanRural</th>\n",
       "      <th>RevLineCr</th>\n",
       "      <th>LowDoc</th>\n",
       "      <th>MIS_Status</th>\n",
       "      <th>SBA_Appv</th>\n",
       "    </tr>\n",
       "  </thead>\n",
       "  <tbody>\n",
       "    <tr>\n",
       "      <th>0</th>\n",
       "      <td>IN</td>\n",
       "      <td>451120</td>\n",
       "      <td>1997</td>\n",
       "      <td>84</td>\n",
       "      <td>4</td>\n",
       "      <td>2.0</td>\n",
       "      <td>0</td>\n",
       "      <td>0</td>\n",
       "      <td>1</td>\n",
       "      <td>0</td>\n",
       "      <td>N</td>\n",
       "      <td>Y</td>\n",
       "      <td>P I F</td>\n",
       "      <td>$48,000.00</td>\n",
       "    </tr>\n",
       "    <tr>\n",
       "      <th>1</th>\n",
       "      <td>IN</td>\n",
       "      <td>722410</td>\n",
       "      <td>1997</td>\n",
       "      <td>60</td>\n",
       "      <td>2</td>\n",
       "      <td>2.0</td>\n",
       "      <td>0</td>\n",
       "      <td>0</td>\n",
       "      <td>1</td>\n",
       "      <td>0</td>\n",
       "      <td>N</td>\n",
       "      <td>Y</td>\n",
       "      <td>P I F</td>\n",
       "      <td>$32,000.00</td>\n",
       "    </tr>\n",
       "    <tr>\n",
       "      <th>2</th>\n",
       "      <td>IN</td>\n",
       "      <td>621210</td>\n",
       "      <td>1997</td>\n",
       "      <td>180</td>\n",
       "      <td>7</td>\n",
       "      <td>1.0</td>\n",
       "      <td>0</td>\n",
       "      <td>0</td>\n",
       "      <td>1</td>\n",
       "      <td>0</td>\n",
       "      <td>N</td>\n",
       "      <td>N</td>\n",
       "      <td>P I F</td>\n",
       "      <td>$215,250.00</td>\n",
       "    </tr>\n",
       "  </tbody>\n",
       "</table>\n",
       "</div>"
      ],
      "text/plain": [
       "  State   NAICS ApprovalFY  Term  NoEmp  NewExist  CreateJob  RetainedJob  \\\n",
       "0    IN  451120       1997    84      4       2.0          0            0   \n",
       "1    IN  722410       1997    60      2       2.0          0            0   \n",
       "2    IN  621210       1997   180      7       1.0          0            0   \n",
       "\n",
       "   FranchiseCode  UrbanRural RevLineCr LowDoc MIS_Status      SBA_Appv  \n",
       "0              1           0         N      Y      P I F   $48,000.00   \n",
       "1              1           0         N      Y      P I F   $32,000.00   \n",
       "2              1           0         N      N      P I F  $215,250.00   "
      ]
     },
     "execution_count": 50,
     "metadata": {},
     "output_type": "execute_result"
    }
   ],
   "source": [
    "#____________________________________________________________\n",
    "# delete some dates :\n",
    "def remove_columns(dataframe : pd.DataFrame) -> pd.DataFrame :\n",
    "    X = dataframe.drop('LoanNr_ChkDgt', axis=1)\n",
    "    X = X.drop('Name', axis=1)\n",
    "    X = X.drop('City', axis=1)\n",
    "    # State included\n",
    "    X = X.drop('Zip', axis=1)\n",
    "    X = X.drop('Bank', axis=1)\n",
    "    X = X.drop('BankState', axis=1)\n",
    "    # NAICS included (2 first chars )\n",
    "    X = X.drop('ApprovalDate', axis=1)\n",
    "    # KEEP an informatin about date\n",
    "    #____________________________________________________________\n",
    "    # X = X.drop('ApprovalFY', axis=1) \n",
    "    # Term (nombre de mois - à mettre en rapport avec le GrAppv ?) included\n",
    "    # NoEmp, NewExist , CreateJob, RetainedJob, FranchiseCode, UrbanRural, RevLineCr include \n",
    "    # LowDoc (include 'y' only) included\n",
    "    X = X.drop('ChgOffDate', axis=1)\n",
    "    X = X.drop('DisbursementDate', axis=1)  \n",
    "    X = X.drop('DisbursementGross', axis=1)  \n",
    "    X = X.drop('BalanceGross', axis=1)  # 14 valeurs seulement différentes de zéro  ?\n",
    "    # MIS_Status : INCLUDED !!! because it is Y\n",
    "    X = X.drop('ChgOffPrinGr', axis=1)\n",
    "    # GrAppv : INCLUDED\n",
    "    return X\n",
    "\n",
    "X = remove_columns(df_exp)\n",
    "#y = df['MIS_Status']\n",
    "#X = df.drop('MIS_Status', axis=1)\n",
    "X.head(3)"
   ]
  },
  {
   "cell_type": "code",
   "execution_count": 51,
   "metadata": {},
   "outputs": [
    {
     "name": "stdout",
     "output_type": "stream",
     "text": [
      "0 State : object)\n",
      "1 NAICS : int64)\n",
      "2 ApprovalFY : object)\n",
      "3 Term : int64)\n",
      "4 NoEmp : int64)\n",
      "5 NewExist : float64)\n",
      "6 CreateJob : int64)\n",
      "7 RetainedJob : int64)\n",
      "8 FranchiseCode : int64)\n",
      "9 UrbanRural : int64)\n",
      "10 RevLineCr : object)\n",
      "11 LowDoc : object)\n",
      "12 MIS_Status : object)\n",
      "13 SBA_Appv : object)\n"
     ]
    }
   ],
   "source": [
    "index =0\n",
    "for column in X.columns :\n",
    "    print(f\"{index} {column} : {df[column].dtype})\")\n",
    "    index+=1"
   ]
  },
  {
   "cell_type": "markdown",
   "metadata": {},
   "source": [
    "# Analyse des colonnes"
   ]
  },
  {
   "cell_type": "code",
   "execution_count": 60,
   "metadata": {},
   "outputs": [
    {
     "name": "stdout",
     "output_type": "stream",
     "text": [
      "<class 'pandas.core.frame.DataFrame'>\n",
      "Index: 897167 entries, 0 to 899163\n",
      "Data columns (total 14 columns):\n",
      " #   Column         Non-Null Count   Dtype  \n",
      "---  ------         --------------   -----  \n",
      " 0   State          897154 non-null  object \n",
      " 1   NAICS          897167 non-null  int64  \n",
      " 2   ApprovalFY     897167 non-null  object \n",
      " 3   Term           897167 non-null  int64  \n",
      " 4   NoEmp          897167 non-null  int64  \n",
      " 5   NewExist       897033 non-null  float64\n",
      " 6   CreateJob      897167 non-null  int64  \n",
      " 7   RetainedJob    897167 non-null  int64  \n",
      " 8   FranchiseCode  897167 non-null  int64  \n",
      " 9   UrbanRural     897167 non-null  int64  \n",
      " 10  RevLineCr      892647 non-null  object \n",
      " 11  LowDoc         894589 non-null  object \n",
      " 12  MIS_Status     897167 non-null  object \n",
      " 13  SBA_Appv       897167 non-null  object \n",
      "dtypes: float64(1), int64(7), object(6)\n",
      "memory usage: 102.7+ MB\n"
     ]
    }
   ],
   "source": [
    "# Missing values strategy :\n",
    "import conversion_functions as conv\n",
    "\n",
    "column_name = X.columns[0]\n",
    "#X[column_name].info()\n",
    "X.info()\n"
   ]
  },
  {
   "cell_type": "code",
   "execution_count": 61,
   "metadata": {},
   "outputs": [
    {
     "data": {
      "text/plain": [
       "State              13\n",
       "NAICS               0\n",
       "ApprovalFY          0\n",
       "Term                0\n",
       "NoEmp               0\n",
       "NewExist          134\n",
       "CreateJob           0\n",
       "RetainedJob         0\n",
       "FranchiseCode       0\n",
       "UrbanRural          0\n",
       "RevLineCr        4520\n",
       "LowDoc           2578\n",
       "MIS_Status          0\n",
       "SBA_Appv            0\n",
       "dtype: int64"
      ]
     },
     "execution_count": 61,
     "metadata": {},
     "output_type": "execute_result"
    }
   ],
   "source": [
    "X.isna().sum()"
   ]
  },
  {
   "cell_type": "code",
   "execution_count": 59,
   "metadata": {},
   "outputs": [
    {
     "name": "stdout",
     "output_type": "stream",
     "text": [
      "<class 'pandas.core.series.Series'>\n",
      "Index: 897167 entries, 0 to 899163\n",
      "Series name: State\n",
      "Non-Null Count   Dtype\n",
      "--------------   -----\n",
      "897167 non-null  int64\n",
      "dtypes: int64(1)\n",
      "memory usage: 13.7 MB\n"
     ]
    },
    {
     "data": {
      "text/plain": [
       "array([ 914, 1511,  612,  320, 1410, 1403,  912, 1809, 2024, 2201, 2014,\n",
       "        118, 1314, 1315, 1301,  301, 1903, 1201,  901, 1508, 1125, 1319,\n",
       "       1425, 1304, 1601, 1518, 1305, 1119, 1309,  111, 2301,  315, 1320,\n",
       "       2325, 2120, 1408, 2322,  904,  126, 1422, 2309, 1413,  701, 1404,\n",
       "       2220,  112, 1405, 1904,  809,  405,  403, 4633])"
      ]
     },
     "execution_count": 59,
     "metadata": {},
     "output_type": "execute_result"
    }
   ],
   "source": [
    "import numpy as np \n",
    "\n",
    "X2 = pd.DataFrame(X)\n",
    "\n",
    "X2[column_name].fillna('ZZ')\n",
    "X2[column_name] = X2[column_name].apply(lambda x : conv.get_state_code(x))\n",
    "#X2[column_name] = X2[column_name].astype(\"Int64\").dtypes\n",
    "\n",
    "X2[column_name].info()\n",
    "X2[column_name].unique()"
   ]
  },
  {
   "cell_type": "code",
   "execution_count": 62,
   "metadata": {},
   "outputs": [
    {
     "data": {
      "text/plain": [
       "State               0\n",
       "NAICS               0\n",
       "ApprovalFY          0\n",
       "Term                0\n",
       "NoEmp               0\n",
       "NewExist          134\n",
       "CreateJob           0\n",
       "RetainedJob         0\n",
       "FranchiseCode       0\n",
       "UrbanRural          0\n",
       "RevLineCr        4520\n",
       "LowDoc           2578\n",
       "MIS_Status          0\n",
       "SBA_Appv            0\n",
       "dtype: int64"
      ]
     },
     "execution_count": 62,
     "metadata": {},
     "output_type": "execute_result"
    }
   ],
   "source": [
    "X2.isna().sum()"
   ]
  },
  {
   "cell_type": "markdown",
   "metadata": {},
   "source": [
    "______________________"
   ]
  },
  {
   "cell_type": "code",
   "execution_count": 54,
   "metadata": {},
   "outputs": [
    {
     "data": {
      "text/html": [
       "<div>\n",
       "<style scoped>\n",
       "    .dataframe tbody tr th:only-of-type {\n",
       "        vertical-align: middle;\n",
       "    }\n",
       "\n",
       "    .dataframe tbody tr th {\n",
       "        vertical-align: top;\n",
       "    }\n",
       "\n",
       "    .dataframe thead th {\n",
       "        text-align: right;\n",
       "    }\n",
       "</style>\n",
       "<table border=\"1\" class=\"dataframe\">\n",
       "  <thead>\n",
       "    <tr style=\"text-align: right;\">\n",
       "      <th></th>\n",
       "      <th>ApprovalFY</th>\n",
       "      <th>Term</th>\n",
       "      <th>NoEmp</th>\n",
       "      <th>NewExist</th>\n",
       "      <th>CreateJob</th>\n",
       "      <th>RetainedJob</th>\n",
       "      <th>FranchiseCode</th>\n",
       "      <th>UrbanRural</th>\n",
       "      <th>MIS_Status</th>\n",
       "      <th>SBA_Appv</th>\n",
       "    </tr>\n",
       "  </thead>\n",
       "  <tbody>\n",
       "    <tr>\n",
       "      <th>0</th>\n",
       "      <td>1997</td>\n",
       "      <td>84</td>\n",
       "      <td>4</td>\n",
       "      <td>2.0</td>\n",
       "      <td>0</td>\n",
       "      <td>0</td>\n",
       "      <td>1</td>\n",
       "      <td>0</td>\n",
       "      <td>0</td>\n",
       "      <td>$48,000.00</td>\n",
       "    </tr>\n",
       "    <tr>\n",
       "      <th>1</th>\n",
       "      <td>1997</td>\n",
       "      <td>60</td>\n",
       "      <td>2</td>\n",
       "      <td>2.0</td>\n",
       "      <td>0</td>\n",
       "      <td>0</td>\n",
       "      <td>1</td>\n",
       "      <td>0</td>\n",
       "      <td>0</td>\n",
       "      <td>$32,000.00</td>\n",
       "    </tr>\n",
       "    <tr>\n",
       "      <th>2</th>\n",
       "      <td>1997</td>\n",
       "      <td>180</td>\n",
       "      <td>7</td>\n",
       "      <td>1.0</td>\n",
       "      <td>0</td>\n",
       "      <td>0</td>\n",
       "      <td>1</td>\n",
       "      <td>0</td>\n",
       "      <td>0</td>\n",
       "      <td>$215,250.00</td>\n",
       "    </tr>\n",
       "    <tr>\n",
       "      <th>3</th>\n",
       "      <td>1997</td>\n",
       "      <td>60</td>\n",
       "      <td>2</td>\n",
       "      <td>1.0</td>\n",
       "      <td>0</td>\n",
       "      <td>0</td>\n",
       "      <td>1</td>\n",
       "      <td>0</td>\n",
       "      <td>0</td>\n",
       "      <td>$28,000.00</td>\n",
       "    </tr>\n",
       "    <tr>\n",
       "      <th>4</th>\n",
       "      <td>1997</td>\n",
       "      <td>240</td>\n",
       "      <td>14</td>\n",
       "      <td>1.0</td>\n",
       "      <td>7</td>\n",
       "      <td>7</td>\n",
       "      <td>1</td>\n",
       "      <td>0</td>\n",
       "      <td>0</td>\n",
       "      <td>$229,000.00</td>\n",
       "    </tr>\n",
       "  </tbody>\n",
       "</table>\n",
       "</div>"
      ],
      "text/plain": [
       "  ApprovalFY  Term  NoEmp  NewExist  CreateJob  RetainedJob  FranchiseCode  \\\n",
       "0       1997    84      4       2.0          0            0              1   \n",
       "1       1997    60      2       2.0          0            0              1   \n",
       "2       1997   180      7       1.0          0            0              1   \n",
       "3       1997    60      2       1.0          0            0              1   \n",
       "4       1997   240     14       1.0          7            7              1   \n",
       "\n",
       "   UrbanRural  MIS_Status      SBA_Appv  \n",
       "0           0           0   $48,000.00   \n",
       "1           0           0   $32,000.00   \n",
       "2           0           0  $215,250.00   \n",
       "3           0           0   $28,000.00   \n",
       "4           0           0  $229,000.00   "
      ]
     },
     "execution_count": 54,
     "metadata": {},
     "output_type": "execute_result"
    }
   ],
   "source": [
    "numeric = X.drop(\"State\", axis=1)\n",
    "numeric = numeric.drop(\"NAICS\", axis=1)\n",
    "numeric = numeric.drop(\"RevLineCr\", axis=1)\n",
    "numeric = numeric.drop(\"LowDoc\", axis=1)\n",
    "\n",
    "numeric[\"MIS_Status\"] = numeric[\"MIS_Status\"].apply(lambda x : 0 if x==\"P I F\" else 1 )\n",
    "numeric.head()\n",
    "#numeric[\"MIS_Status\"] = numeric[(numeric[\"MIS_Status\"] == \"P I F\") | "
   ]
  },
  {
   "cell_type": "code",
   "execution_count": 55,
   "metadata": {},
   "outputs": [
    {
     "ename": "TypeError",
     "evalue": "arg must be a list, tuple, 1-d array, or Series",
     "output_type": "error",
     "traceback": [
      "\u001b[0;31m---------------------------------------------------------------------------\u001b[0m",
      "\u001b[0;31mTypeError\u001b[0m                                 Traceback (most recent call last)",
      "Cell \u001b[0;32mIn[55], line 3\u001b[0m\n\u001b[1;32m      1\u001b[0m \u001b[38;5;28;01mimport\u001b[39;00m\u001b[38;5;250m \u001b[39m\u001b[38;5;21;01mmatplotlib\u001b[39;00m\u001b[38;5;21;01m.\u001b[39;00m\u001b[38;5;21;01mpyplot\u001b[39;00m\u001b[38;5;250m \u001b[39m\u001b[38;5;28;01mas\u001b[39;00m\u001b[38;5;250m \u001b[39m\u001b[38;5;21;01mplt\u001b[39;00m\n\u001b[0;32m----> 3\u001b[0m data_corr \u001b[38;5;241m=\u001b[39m \u001b[43mpd\u001b[49m\u001b[38;5;241;43m.\u001b[39;49m\u001b[43mto_numeric\u001b[49m\u001b[43m(\u001b[49m\u001b[43mnumeric\u001b[49m\u001b[43m,\u001b[49m\u001b[43m \u001b[49m\u001b[43merrors\u001b[49m\u001b[38;5;241;43m=\u001b[39;49m\u001b[38;5;124;43m\"\u001b[39;49m\u001b[38;5;124;43mcoerce\u001b[39;49m\u001b[38;5;124;43m\"\u001b[39;49m\u001b[43m)\u001b[49m\n\u001b[1;32m      4\u001b[0m data_corr\u001b[38;5;241m.\u001b[39massign(Value\u001b[38;5;241m=\u001b[39m data_corr)\u001b[38;5;241m.\u001b[39mdropna()\n\u001b[1;32m      6\u001b[0m plt\u001b[38;5;241m.\u001b[39mmatshow(data_corr)\n",
      "File \u001b[0;32m~/Documents/WORK/Accorder_un_Pret/.venv/lib/python3.12/site-packages/pandas/core/tools/numeric.py:206\u001b[0m, in \u001b[0;36mto_numeric\u001b[0;34m(arg, errors, downcast, dtype_backend)\u001b[0m\n\u001b[1;32m    204\u001b[0m     values \u001b[38;5;241m=\u001b[39m np\u001b[38;5;241m.\u001b[39marray([arg], dtype\u001b[38;5;241m=\u001b[39m\u001b[38;5;124m\"\u001b[39m\u001b[38;5;124mO\u001b[39m\u001b[38;5;124m\"\u001b[39m)\n\u001b[1;32m    205\u001b[0m \u001b[38;5;28;01melif\u001b[39;00m \u001b[38;5;28mgetattr\u001b[39m(arg, \u001b[38;5;124m\"\u001b[39m\u001b[38;5;124mndim\u001b[39m\u001b[38;5;124m\"\u001b[39m, \u001b[38;5;241m1\u001b[39m) \u001b[38;5;241m>\u001b[39m \u001b[38;5;241m1\u001b[39m:\n\u001b[0;32m--> 206\u001b[0m     \u001b[38;5;28;01mraise\u001b[39;00m \u001b[38;5;167;01mTypeError\u001b[39;00m(\u001b[38;5;124m\"\u001b[39m\u001b[38;5;124marg must be a list, tuple, 1-d array, or Series\u001b[39m\u001b[38;5;124m\"\u001b[39m)\n\u001b[1;32m    207\u001b[0m \u001b[38;5;28;01melse\u001b[39;00m:\n\u001b[1;32m    208\u001b[0m     values \u001b[38;5;241m=\u001b[39m arg\n",
      "\u001b[0;31mTypeError\u001b[0m: arg must be a list, tuple, 1-d array, or Series"
     ]
    }
   ],
   "source": [
    "import matplotlib.pyplot as plt\n",
    "\n",
    "data_corr = pd.to_numeric(numeric, errors=\"coerce\")\n",
    "data_corr.assign(Value= data_corr).dropna()\n",
    "\n",
    "plt.matshow(data_corr)\n",
    "plt.show()\n"
   ]
  },
  {
   "cell_type": "code",
   "execution_count": null,
   "metadata": {},
   "outputs": [],
   "source": [
    "\n",
    "\n",
    "#set( list(X[\"State\"].value_counts().keys())) # => no 'AA' or 'ZZ' value\n",
    "#____________________________________________________________________________________\n",
    "# list_values = list(X[\"NAICS\"].value_counts().keys()) # => no 'AA' or 'ZZ' value\n",
    "# short_list = set(list_values) \n",
    "# set_values = set(map (lambda x : conv.get_industry_code(x) ,short_list))\n",
    "# set_values\n",
    "#____________________________________________________________________________________\n",
    "#set(list(X[\"Term\"].value_counts().keys())) # => from 0 to 569\n",
    "#____________________________________________________________________________________\n",
    "#set(list(X[\"NewExist\"].value_counts().keys())) # => from 0.0, 1.0 or 2.0\n",
    "#____________________________________________________________________________________\n",
    "#set(list(X[\"CreateJob\"].value_counts().keys())) # => from 0. to 8800\n",
    "#____________________________________________________________________________________\n",
    "#set(list(X[\"RetainedJob\"].value_counts().keys())) # => from 0 to 9500\n",
    "#____________________________________________________________________________________\n",
    "# X[\"FranchiseCode\"].describe()\n",
    "# X[\"FranchiseCode\"].quantile( [0.9, 0.92, 0.94, 0.96, 0.98, 1.0])\n",
    "# => 0 1 ou numéro de franchise ( entre 0 et 100 000)\n",
    "#____________________________________________________________________________________\n",
    "#X[\"UrbanRural\"].value_counts().keys()\n",
    "# => 0 1 ou 2\n",
    "#____________________________________________________________________________________\n",
    "X[\"RevLineCr\"].value_counts().keys()"
   ]
  }
 ],
 "metadata": {
  "kernelspec": {
   "display_name": ".venv",
   "language": "python",
   "name": "python3"
  },
  "language_info": {
   "codemirror_mode": {
    "name": "ipython",
    "version": 3
   },
   "file_extension": ".py",
   "mimetype": "text/x-python",
   "name": "python",
   "nbconvert_exporter": "python",
   "pygments_lexer": "ipython3",
   "version": "3.12.3"
  }
 },
 "nbformat": 4,
 "nbformat_minor": 2
}
